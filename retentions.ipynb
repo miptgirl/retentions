{
 "cells": [
  {
   "cell_type": "code",
   "execution_count": 11,
   "metadata": {
    "collapsed": true
   },
   "outputs": [],
   "source": [
    "HOST = 'http://localhost:8123'\n",
    "import requests\n",
    "import pandas as pd\n",
    "import StringIO\n",
    "import datetime\n",
    "\n",
    "pd.set_option('display.max_columns', 500)\n",
    "pd.set_option('display.max_colwidth', 150)\n",
    "\n",
    "def get_clickhouse_data(query, host = HOST, connection_timeout = 1500):\n",
    "    query = query \n",
    "    r = requests.post(host, params = {'query': query}, timeout = connection_timeout)\n",
    "    if r.status_code == 200:\n",
    "        return r.text\n",
    "    else:\n",
    "        raise ValueError, r.text\n",
    "        \n",
    "def get_clickhouse_df(query, host = HOST, connection_timeout = 1500):\n",
    "    data = get_clickhouse_data(query, host, connection_timeout) \n",
    "    df = pd.read_csv(StringIO.StringIO(data), sep = '\\t')\n",
    "    return df"
   ]
  },
  {
   "cell_type": "code",
   "execution_count": 63,
   "metadata": {
    "collapsed": false
   },
   "outputs": [
    {
     "name": "stdout",
     "output_type": "stream",
     "text": [
      "1.12.9\n"
     ]
    },
    {
     "data": {
      "text/html": [
       "<script>requirejs.config({paths: { 'plotly': ['https://cdn.plot.ly/plotly-latest.min']},});if(!window.Plotly) {{require(['plotly'],function(plotly) {window.Plotly=plotly;});}}</script>"
      ],
      "text/plain": [
       "<IPython.core.display.HTML object>"
      ]
     },
     "metadata": {},
     "output_type": "display_data"
    }
   ],
   "source": [
    "from plotly import __version__\n",
    "from plotly.offline import download_plotlyjs, init_notebook_mode, plot, iplot\n",
    "from plotly import graph_objs as go\n",
    "import requests\n",
    "import StringIO\n",
    "import pandas as pd\n",
    "\n",
    "print __version__ # need 1.9.0 or greater\n",
    "\n",
    "init_notebook_mode(connected = True)\n",
    "\n",
    "def plotly_df(df, title = ''):\n",
    "    data = []\n",
    "    \n",
    "    for column in df.columns:\n",
    "        trace = go.Scatter(\n",
    "            x = df.index,\n",
    "            y = df[column],\n",
    "            mode = 'lines',\n",
    "            name = column\n",
    "        )\n",
    "        data.append(trace)\n",
    "    \n",
    "    layout = dict(title = title)\n",
    "    fig = dict(data = data, layout = layout)\n",
    "    \n",
    "    # plotly.offline.plot(fig, filename=filename, show_link = False)\n",
    "    \n",
    "    iplot(fig, show_link = False)"
   ]
  },
  {
   "cell_type": "code",
   "execution_count": 130,
   "metadata": {
    "collapsed": false
   },
   "outputs": [],
   "source": [
    "start_date = datetime.datetime(2016, 11, 7)\n",
    "end_date = datetime.datetime(2016, 11, 25)"
   ]
  },
  {
   "cell_type": "code",
   "execution_count": 131,
   "metadata": {
    "collapsed": false
   },
   "outputs": [
    {
     "name": "stdout",
     "output_type": "stream",
     "text": [
      "Bounce\tUInt8\t\t\n",
      "Browser\tString\t\t\n",
      "ClientID\tUInt64\t\t\n",
      "CounterID\tUInt32\t\t\n",
      "Date\tDate\t\t\n",
      "DateTime\tDateTime\t\t\n",
      "DeviceCategory\tString\t\t\n",
      "GoalsID\tArray(UInt32)\t\t\n",
      "IsNewUser\tUInt8\t\t\n",
      "LastAdvEngine\tString\t\t\n",
      "LastSearchEngineRoot\tString\t\t\n",
      "LastSocialNetwork\tString\t\t\n",
      "LastTrafficSource\tString\t\t\n",
      "MobilePhone\tString\t\t\n",
      "OperatingSystemRoot\tString\t\t\n",
      "PageViews\tInt32\t\t\n",
      "Params\tArray(String)\t\t\n",
      "RegionCity\tString\t\t\n",
      "RegionCountry\tString\t\t\n",
      "StartURL\tString\t\t\n",
      "UTMMedium\tString\t\t\n",
      "VisitDuration\tUInt32\t\t\n",
      "VisitID\tUInt64\t\t\n",
      "\n"
     ]
    }
   ],
   "source": [
    "print get_clickhouse_data(\"DESCRIBE visits_all\")"
   ]
  },
  {
   "cell_type": "code",
   "execution_count": 132,
   "metadata": {
    "collapsed": false
   },
   "outputs": [
    {
     "data": {
      "text/plain": [
       "u''"
      ]
     },
     "execution_count": 132,
     "metadata": {},
     "output_type": "execute_result"
    }
   ],
   "source": [
    "q = 'DROP TABLE retention_users'\n",
    "get_clickhouse_data(q)"
   ]
  },
  {
   "cell_type": "code",
   "execution_count": 133,
   "metadata": {
    "collapsed": false
   },
   "outputs": [
    {
     "data": {
      "text/plain": [
       "u''"
      ]
     },
     "execution_count": 133,
     "metadata": {},
     "output_type": "execute_result"
    }
   ],
   "source": [
    "q = '''\n",
    "    CREATE TABLE retention_users ENGINE = Log AS\n",
    "        SELECT DISTINCT ClientID as client_id, toMonday(Date) as date\n",
    "        FROM visits_all\n",
    "        WHERE (Date >= '{start_date}') AND (client_id != 0)\n",
    "'''.format(\n",
    "    start_date = start_date.strftime('%Y-%m-%d'),\n",
    "    end_date = end_date.strftime('%Y-%m-%d')\n",
    ")\n",
    "\n",
    "get_clickhouse_data(q)\n"
   ]
  },
  {
   "cell_type": "code",
   "execution_count": 134,
   "metadata": {
    "collapsed": false
   },
   "outputs": [
    {
     "data": {
      "text/html": [
       "<div>\n",
       "<table border=\"1\" class=\"dataframe\">\n",
       "  <thead>\n",
       "    <tr style=\"text-align: right;\">\n",
       "      <th></th>\n",
       "      <th>count()</th>\n",
       "      <th>uniq(client_id)</th>\n",
       "    </tr>\n",
       "  </thead>\n",
       "  <tbody>\n",
       "    <tr>\n",
       "      <th>0</th>\n",
       "      <td>147101</td>\n",
       "      <td>122206</td>\n",
       "    </tr>\n",
       "  </tbody>\n",
       "</table>\n",
       "</div>"
      ],
      "text/plain": [
       "   count()  uniq(client_id)\n",
       "0   147101           122206"
      ]
     },
     "execution_count": 134,
     "metadata": {},
     "output_type": "execute_result"
    }
   ],
   "source": [
    "q = '''SELECT count(), uniq(client_id) FROM retention_users FORMAT TabSeparatedWithNames'''\n",
    "get_clickhouse_df(q)"
   ]
  },
  {
   "cell_type": "code",
   "execution_count": 135,
   "metadata": {
    "collapsed": false
   },
   "outputs": [
    {
     "data": {
      "text/html": [
       "<div>\n",
       "<table border=\"1\" class=\"dataframe\">\n",
       "  <thead>\n",
       "    <tr style=\"text-align: right;\">\n",
       "      <th></th>\n",
       "      <th>client_id</th>\n",
       "      <th>min_date</th>\n",
       "      <th>max_date</th>\n",
       "      <th>date</th>\n",
       "    </tr>\n",
       "  </thead>\n",
       "  <tbody>\n",
       "    <tr>\n",
       "      <th>0</th>\n",
       "      <td>147499413523122789</td>\n",
       "      <td>2016-11-21</td>\n",
       "      <td>2016-11-21</td>\n",
       "      <td>2016-11-21</td>\n",
       "    </tr>\n",
       "    <tr>\n",
       "      <th>1</th>\n",
       "      <td>1479648866412244456</td>\n",
       "      <td>2016-11-21</td>\n",
       "      <td>2016-11-21</td>\n",
       "      <td>2016-11-21</td>\n",
       "    </tr>\n",
       "    <tr>\n",
       "      <th>2</th>\n",
       "      <td>1479724114124140389</td>\n",
       "      <td>2016-11-21</td>\n",
       "      <td>2016-11-21</td>\n",
       "      <td>2016-11-21</td>\n",
       "    </tr>\n",
       "    <tr>\n",
       "      <th>3</th>\n",
       "      <td>1478813768357570873</td>\n",
       "      <td>2016-11-07</td>\n",
       "      <td>2016-11-07</td>\n",
       "      <td>2016-11-07</td>\n",
       "    </tr>\n",
       "    <tr>\n",
       "      <th>4</th>\n",
       "      <td>1475653197470988617</td>\n",
       "      <td>2016-11-21</td>\n",
       "      <td>2016-11-21</td>\n",
       "      <td>2016-11-21</td>\n",
       "    </tr>\n",
       "    <tr>\n",
       "      <th>5</th>\n",
       "      <td>1474481975917622301</td>\n",
       "      <td>2016-11-21</td>\n",
       "      <td>2016-11-21</td>\n",
       "      <td>2016-11-21</td>\n",
       "    </tr>\n",
       "    <tr>\n",
       "      <th>6</th>\n",
       "      <td>1479302399400133034</td>\n",
       "      <td>2016-11-14</td>\n",
       "      <td>2016-11-14</td>\n",
       "      <td>2016-11-14</td>\n",
       "    </tr>\n",
       "    <tr>\n",
       "      <th>7</th>\n",
       "      <td>1472045255713512694</td>\n",
       "      <td>2016-11-21</td>\n",
       "      <td>2016-12-19</td>\n",
       "      <td>2016-12-05</td>\n",
       "    </tr>\n",
       "    <tr>\n",
       "      <th>8</th>\n",
       "      <td>1472045255713512694</td>\n",
       "      <td>2016-11-21</td>\n",
       "      <td>2016-12-19</td>\n",
       "      <td>2016-11-21</td>\n",
       "    </tr>\n",
       "    <tr>\n",
       "      <th>9</th>\n",
       "      <td>1472045255713512694</td>\n",
       "      <td>2016-11-21</td>\n",
       "      <td>2016-12-19</td>\n",
       "      <td>2016-12-19</td>\n",
       "    </tr>\n",
       "  </tbody>\n",
       "</table>\n",
       "</div>"
      ],
      "text/plain": [
       "             client_id    min_date    max_date        date\n",
       "0   147499413523122789  2016-11-21  2016-11-21  2016-11-21\n",
       "1  1479648866412244456  2016-11-21  2016-11-21  2016-11-21\n",
       "2  1479724114124140389  2016-11-21  2016-11-21  2016-11-21\n",
       "3  1478813768357570873  2016-11-07  2016-11-07  2016-11-07\n",
       "4  1475653197470988617  2016-11-21  2016-11-21  2016-11-21\n",
       "5  1474481975917622301  2016-11-21  2016-11-21  2016-11-21\n",
       "6  1479302399400133034  2016-11-14  2016-11-14  2016-11-14\n",
       "7  1472045255713512694  2016-11-21  2016-12-19  2016-12-05\n",
       "8  1472045255713512694  2016-11-21  2016-12-19  2016-11-21\n",
       "9  1472045255713512694  2016-11-21  2016-12-19  2016-12-19"
      ]
     },
     "execution_count": 135,
     "metadata": {},
     "output_type": "execute_result"
    }
   ],
   "source": [
    "q = '''\n",
    "SELECT \n",
    "    client_id,\n",
    "    min_date, \n",
    "    max_date,\n",
    "    date\n",
    "FROM\n",
    "    (\n",
    "        SELECT\n",
    "            client_id,\n",
    "            min(date) as min_date,\n",
    "            max(date) as max_date\n",
    "        FROM retention_users\n",
    "        GROUP BY client_id\n",
    "        HAVING min_date <= '{end_date}'\n",
    "    )\n",
    "    ALL INNER JOIN\n",
    "    (\n",
    "        SELECT \n",
    "            client_id,\n",
    "            date\n",
    "        FROM retention_users\n",
    "    ) \n",
    "    USING client_id\n",
    "LIMIT 10\n",
    "FORMAT TabSeparatedWithNames\n",
    "'''.format(end_date = end_date.strftime('%Y-%m-%d'))\n",
    "\n",
    "get_clickhouse_df(q)"
   ]
  },
  {
   "cell_type": "markdown",
   "metadata": {},
   "source": [
    "## Простой retention"
   ]
  },
  {
   "cell_type": "code",
   "execution_count": 136,
   "metadata": {
    "collapsed": false
   },
   "outputs": [],
   "source": [
    "q = '''\n",
    "SELECT \n",
    "    uniq(client_id) as clients,\n",
    "    min_date, \n",
    "    (date - min_date)/7 as week_num\n",
    "FROM\n",
    "    (\n",
    "        SELECT\n",
    "            client_id,\n",
    "            min(date) as min_date,\n",
    "            max(date) as max_date\n",
    "        FROM retention_users\n",
    "        GROUP BY client_id\n",
    "        HAVING min_date <= '{end_date}'\n",
    "    )\n",
    "    ALL INNER JOIN\n",
    "    (\n",
    "        SELECT \n",
    "            client_id,\n",
    "            date\n",
    "        FROM retention_users\n",
    "    ) \n",
    "    USING client_id\n",
    "GROUP BY\n",
    "    week_num,\n",
    "    min_date\n",
    "FORMAT TabSeparatedWithNames\n",
    "'''.format(end_date = end_date.strftime('%Y-%m-%d'))\n",
    "\n",
    "raw_ret_df = get_clickhouse_df(q)"
   ]
  },
  {
   "cell_type": "code",
   "execution_count": 137,
   "metadata": {
    "collapsed": false
   },
   "outputs": [],
   "source": [
    "ret_df = raw_ret_df.pivot_table(index = 'min_date', values = 'clients', columns = 'week_num').fillna(0).T"
   ]
  },
  {
   "cell_type": "code",
   "execution_count": 138,
   "metadata": {
    "collapsed": false
   },
   "outputs": [],
   "source": [
    "ret_df_norm = ret_df.apply(lambda x: 100*x/ret_df.loc[0], axis = 1).applymap(lambda x: x if x!=0 else None)"
   ]
  },
  {
   "cell_type": "code",
   "execution_count": 139,
   "metadata": {
    "collapsed": false
   },
   "outputs": [
    {
     "data": {
      "text/html": [
       "<div id=\"5ff959a6-305a-460a-aa54-d6d8a7119e2a\" style=\"height: 525px; width: 100%;\" class=\"plotly-graph-div\"></div><script type=\"text/javascript\">require([\"plotly\"], function(Plotly) { window.PLOTLYENV=window.PLOTLYENV || {};window.PLOTLYENV.BASE_URL=\"https://plot.ly\";Plotly.newPlot(\"5ff959a6-305a-460a-aa54-d6d8a7119e2a\", [{\"y\": [100.0, 12.470710752408227, 8.38844051028378, 7.211663629263213, 6.409789117417339, 5.4204634209841185, 4.446758656599844, 3.264774798229628], \"x\": [0, 1, 2, 3, 4, 5, 6, 7], \"type\": \"scatter\", \"name\": \"2016-11-07\", \"mode\": \"lines\"}, {\"y\": [100.0, 9.399401162449363, 5.894440204309282, 5.007925791111372, 3.9159279046556685, 3.187929313685199, 1.9667703868960253, null], \"x\": [0, 1, 2, 3, 4, 5, 6, 7], \"type\": \"scatter\", \"name\": \"2016-11-14\", \"mode\": \"lines\"}, {\"y\": [100.0, 8.005524861878452, 5.0, 3.834254143646409, 3.016574585635359, 1.856353591160221, null, null], \"x\": [0, 1, 2, 3, 4, 5, 6, 7], \"type\": \"scatter\", \"name\": \"2016-11-21\", \"mode\": \"lines\"}], {\"title\": \"\"}, {\"linkText\": \"Export to plot.ly\", \"showLink\": false})});</script>"
      ],
      "text/plain": [
       "<IPython.core.display.HTML object>"
      ]
     },
     "metadata": {},
     "output_type": "display_data"
    }
   ],
   "source": [
    "plotly_df(ret_df_norm)"
   ]
  },
  {
   "cell_type": "markdown",
   "metadata": {},
   "source": [
    "## Rolling retention"
   ]
  },
  {
   "cell_type": "code",
   "execution_count": 169,
   "metadata": {
    "collapsed": false
   },
   "outputs": [],
   "source": [
    "q = '''\n",
    "SELECT\n",
    "    uniq(client_id) as clients,\n",
    "    min_date,\n",
    "    week_num\n",
    "FROM\n",
    "    (SELECT \n",
    "        client_id,\n",
    "        min_date, \n",
    "        arrayJoin(range(toUInt64((max_date - min_date)/7) + 1)) as week_num\n",
    "    FROM\n",
    "        (\n",
    "            SELECT\n",
    "                client_id,\n",
    "                min(date) as min_date,\n",
    "                max(date) as max_date\n",
    "            FROM retention_users\n",
    "            GROUP BY client_id\n",
    "            HAVING min_date <= '{end_date}'\n",
    "        ))\n",
    "GROUP BY\n",
    "    min_date,\n",
    "    week_num\n",
    "FORMAT TabSeparatedWithNames\n",
    "'''.format(end_date = end_date.strftime('%Y-%m-%d'))\n",
    "\n",
    "raw_roll_ret_df = get_clickhouse_df(q)"
   ]
  },
  {
   "cell_type": "code",
   "execution_count": 170,
   "metadata": {
    "collapsed": false
   },
   "outputs": [],
   "source": [
    "roll_ret_df = raw_roll_ret_df.pivot_table(index = 'min_date', \n",
    "                                          values = 'clients', \n",
    "                                          columns = 'week_num').fillna(0).T"
   ]
  },
  {
   "cell_type": "code",
   "execution_count": 171,
   "metadata": {
    "collapsed": true
   },
   "outputs": [],
   "source": [
    "roll_ret_df_norm = roll_ret_df.apply(lambda x: 100*x/roll_ret_df.loc[0], axis = 1).applymap(lambda x: x if x!=0 else None)"
   ]
  },
  {
   "cell_type": "code",
   "execution_count": 172,
   "metadata": {
    "collapsed": false
   },
   "outputs": [
    {
     "data": {
      "text/html": [
       "<div id=\"74b4aa07-5f81-481b-a291-0de8ca421edd\" style=\"height: 525px; width: 100%;\" class=\"plotly-graph-div\"></div><script type=\"text/javascript\">require([\"plotly\"], function(Plotly) { window.PLOTLYENV=window.PLOTLYENV || {};window.PLOTLYENV.BASE_URL=\"https://plot.ly\";Plotly.newPlot(\"74b4aa07-5f81-481b-a291-0de8ca421edd\", [{\"y\": [100.0, 24.64462379588649, 18.677427753189274, 15.230408747721947, 12.116636292632126, 8.99244988284301, 6.206717000781047, 3.264774798229628], \"x\": [0, 1, 2, 3, 4, 5, 6, 7], \"type\": \"scatter\", \"name\": \"2016-11-07\", \"mode\": \"lines\"}, {\"y\": [100.0, 18.83402806317149, 13.397522456408149, 10.127399753419832, 6.980567134386192, 4.414959196853167, 1.9667703868960253, null], \"x\": [0, 1, 2, 3, 4, 5, 6, 7], \"type\": \"scatter\", \"name\": \"2016-11-14\", \"mode\": \"lines\"}, {\"y\": [100.0, 15.475138121546962, 10.121546961325967, 6.900552486187845, 4.292817679558011, 1.856353591160221, null, null], \"x\": [0, 1, 2, 3, 4, 5, 6, 7], \"type\": \"scatter\", \"name\": \"2016-11-21\", \"mode\": \"lines\"}], {\"title\": \"\"}, {\"linkText\": \"Export to plot.ly\", \"showLink\": false})});</script>"
      ],
      "text/plain": [
       "<IPython.core.display.HTML object>"
      ]
     },
     "metadata": {},
     "output_type": "display_data"
    }
   ],
   "source": [
    "plotly_df(roll_ret_df_norm)"
   ]
  },
  {
   "cell_type": "code",
   "execution_count": null,
   "metadata": {
    "collapsed": true
   },
   "outputs": [],
   "source": []
  }
 ],
 "metadata": {
  "anaconda-cloud": {},
  "kernelspec": {
   "display_name": "Python [Root]",
   "language": "python",
   "name": "Python [Root]"
  },
  "language_info": {
   "codemirror_mode": {
    "name": "ipython",
    "version": 2
   },
   "file_extension": ".py",
   "mimetype": "text/x-python",
   "name": "python",
   "nbconvert_exporter": "python",
   "pygments_lexer": "ipython2",
   "version": "2.7.12"
  }
 },
 "nbformat": 4,
 "nbformat_minor": 0
}
